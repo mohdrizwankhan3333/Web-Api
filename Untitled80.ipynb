{
 "cells": [
  {
   "cell_type": "code",
   "execution_count": null,
   "id": "0354bbd9-c759-411b-ac3f-4d4e22a13ac1",
   "metadata": {},
   "outputs": [],
   "source": [
    "Q1. An API is a set of rules enabling different software to communicate. Example: Google Maps API for location services.\n",
    "\n",
    "Q2.Advantages: Simplifies integration, promotes reusability, and enhances modularity.  \n",
    "Disadvantages: Security vulnerabilities, dependency on external services, and potential for miscommunication.\n",
    "\n",
    "Q3. A Web API is an API specifically designed for web applications using HTTP.  \n",
    "Difference: APIs are general, while Web APIs are specifically web-based.\n",
    "\n",
    "Q4.REST:Uses standard HTTP methods; stateless.  \n",
    "SOAP: Protocol for exchanging XML-based messages.  \n",
    "Shortcomings of SOAP: Complex, slower due to XML overhead.\n",
    "\n",
    "Q5.REST: Lightweight, uses JSON, and HTTP.  \n",
    "SOAP: Heavy, uses XML, and built-in error handling."
   ]
  }
 ],
 "metadata": {
  "kernelspec": {
   "display_name": "Python 3 (ipykernel)",
   "language": "python",
   "name": "python3"
  },
  "language_info": {
   "codemirror_mode": {
    "name": "ipython",
    "version": 3
   },
   "file_extension": ".py",
   "mimetype": "text/x-python",
   "name": "python",
   "nbconvert_exporter": "python",
   "pygments_lexer": "ipython3",
   "version": "3.10.8"
  }
 },
 "nbformat": 4,
 "nbformat_minor": 5
}
